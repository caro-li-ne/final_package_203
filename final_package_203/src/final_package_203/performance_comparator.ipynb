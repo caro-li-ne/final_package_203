{
 "cells": [
  {
   "cell_type": "code",
   "id": "initial_id",
   "metadata": {
    "collapsed": true,
    "ExecuteTime": {
     "end_time": "2025-01-17T21:54:08.028819Z",
     "start_time": "2025-01-17T21:54:00.233077Z"
    }
   },
   "source": [
    "from class_basket import StockPortfolio, StockDataFetcher\n",
    "import matplotlib.pyplot as plt\n",
    "import matplotlib.dates as mdates\n",
    "import os\n",
    "\n",
    "name_bt=\"Backtest\"\n",
    "N = 3  # Number of assets\n",
    "VT = 0.2  # Volatility target (example)\n",
    "start_date = '2023-11-15'\n",
    "end_date = '2025-01-16'\n",
    "\n",
    "# COV_mat = np.zeros((N, N, data.shape[0]), dtype=float)  # covariance matrix\n",
    "portfolio = StockPortfolio(N, start_date, end_date, VT)\n",
    "BT, tickers = portfolio.run_optimization()\n",
    "BT"
   ],
   "outputs": [
    {
     "name": "stdout",
     "output_type": "stream",
     "text": [
      "Current valid tickers: {'KRBP', 'DBMM', 'FHB'}\n"
     ]
    },
    {
     "data": {
      "text/plain": [
       "            Index Level\n",
       "Date                   \n",
       "2024-03-19   100.000000\n",
       "2024-03-20   104.033146\n",
       "2024-03-21   104.556438\n",
       "2024-03-22   104.977112\n",
       "2024-03-25   104.633069\n",
       "...                 ...\n",
       "2025-01-08   210.221513\n",
       "2025-01-10   209.514465\n",
       "2025-01-13   209.735492\n",
       "2025-01-14   209.819765\n",
       "2025-01-15   209.724127\n",
       "\n",
       "[208 rows x 1 columns]"
      ],
      "text/html": [
       "<div>\n",
       "<style scoped>\n",
       "    .dataframe tbody tr th:only-of-type {\n",
       "        vertical-align: middle;\n",
       "    }\n",
       "\n",
       "    .dataframe tbody tr th {\n",
       "        vertical-align: top;\n",
       "    }\n",
       "\n",
       "    .dataframe thead th {\n",
       "        text-align: right;\n",
       "    }\n",
       "</style>\n",
       "<table border=\"1\" class=\"dataframe\">\n",
       "  <thead>\n",
       "    <tr style=\"text-align: right;\">\n",
       "      <th></th>\n",
       "      <th>Index Level</th>\n",
       "    </tr>\n",
       "    <tr>\n",
       "      <th>Date</th>\n",
       "      <th></th>\n",
       "    </tr>\n",
       "  </thead>\n",
       "  <tbody>\n",
       "    <tr>\n",
       "      <th>2024-03-19</th>\n",
       "      <td>100.000000</td>\n",
       "    </tr>\n",
       "    <tr>\n",
       "      <th>2024-03-20</th>\n",
       "      <td>104.033146</td>\n",
       "    </tr>\n",
       "    <tr>\n",
       "      <th>2024-03-21</th>\n",
       "      <td>104.556438</td>\n",
       "    </tr>\n",
       "    <tr>\n",
       "      <th>2024-03-22</th>\n",
       "      <td>104.977112</td>\n",
       "    </tr>\n",
       "    <tr>\n",
       "      <th>2024-03-25</th>\n",
       "      <td>104.633069</td>\n",
       "    </tr>\n",
       "    <tr>\n",
       "      <th>...</th>\n",
       "      <td>...</td>\n",
       "    </tr>\n",
       "    <tr>\n",
       "      <th>2025-01-08</th>\n",
       "      <td>210.221513</td>\n",
       "    </tr>\n",
       "    <tr>\n",
       "      <th>2025-01-10</th>\n",
       "      <td>209.514465</td>\n",
       "    </tr>\n",
       "    <tr>\n",
       "      <th>2025-01-13</th>\n",
       "      <td>209.735492</td>\n",
       "    </tr>\n",
       "    <tr>\n",
       "      <th>2025-01-14</th>\n",
       "      <td>209.819765</td>\n",
       "    </tr>\n",
       "    <tr>\n",
       "      <th>2025-01-15</th>\n",
       "      <td>209.724127</td>\n",
       "    </tr>\n",
       "  </tbody>\n",
       "</table>\n",
       "<p>208 rows × 1 columns</p>\n",
       "</div>"
      ]
     },
     "execution_count": 2,
     "metadata": {},
     "output_type": "execute_result"
    }
   ],
   "execution_count": 2
  },
  {
   "metadata": {
    "ExecuteTime": {
     "end_time": "2025-01-17T21:54:09.983317Z",
     "start_time": "2025-01-17T21:54:09.505827Z"
    }
   },
   "cell_type": "code",
   "source": [
    "from class_basket import Equally_weighted, StockDataFetcher\n",
    "import matplotlib.pyplot as plt\n",
    "import matplotlib.dates as mdates\n",
    "import os\n",
    "\n",
    "df_equally_weighted, _ = Equally_weighted(N, start_date, end_date,tickers).compute_equally_weighted_basket()\n",
    "print(\"Equally Weighted Basket:\\n\", df_equally_weighted.head())\n"
   ],
   "id": "fc34f7e542fa9255",
   "outputs": [
    {
     "name": "stdout",
     "output_type": "stream",
     "text": [
      "Current valid tickers: {'CMCM', 'FFIE', 'PLCE'}\n",
      "Equally Weighted Basket:\n",
      "                            Equally Weighted\n",
      "Date                                       \n",
      "2023-11-15 00:00:00-05:00               NaN\n",
      "2023-11-16 00:00:00-05:00          0.843980\n",
      "2023-11-17 00:00:00-05:00          0.857774\n",
      "2023-11-20 00:00:00-05:00          0.860873\n",
      "2023-11-21 00:00:00-05:00          0.824664\n"
     ]
    }
   ],
   "execution_count": 3
  },
  {
   "metadata": {},
   "cell_type": "code",
   "outputs": [],
   "execution_count": null,
   "source": "",
   "id": "aaab7d236f59593f"
  },
  {
   "metadata": {
    "ExecuteTime": {
     "end_time": "2025-01-17T21:54:16.171495Z",
     "start_time": "2025-01-17T21:54:16.160298Z"
    }
   },
   "cell_type": "code",
   "source": [
    "BT.join(df_equally_weighted)\n",
    "BT"
   ],
   "id": "dd24278a8952eb6f",
   "outputs": [
    {
     "data": {
      "text/plain": [
       "            Index Level\n",
       "Date                   \n",
       "2024-03-19   100.000000\n",
       "2024-03-20   104.033146\n",
       "2024-03-21   104.556438\n",
       "2024-03-22   104.977112\n",
       "2024-03-25   104.633069\n",
       "...                 ...\n",
       "2025-01-08   210.221513\n",
       "2025-01-10   209.514465\n",
       "2025-01-13   209.735492\n",
       "2025-01-14   209.819765\n",
       "2025-01-15   209.724127\n",
       "\n",
       "[208 rows x 1 columns]"
      ],
      "text/html": [
       "<div>\n",
       "<style scoped>\n",
       "    .dataframe tbody tr th:only-of-type {\n",
       "        vertical-align: middle;\n",
       "    }\n",
       "\n",
       "    .dataframe tbody tr th {\n",
       "        vertical-align: top;\n",
       "    }\n",
       "\n",
       "    .dataframe thead th {\n",
       "        text-align: right;\n",
       "    }\n",
       "</style>\n",
       "<table border=\"1\" class=\"dataframe\">\n",
       "  <thead>\n",
       "    <tr style=\"text-align: right;\">\n",
       "      <th></th>\n",
       "      <th>Index Level</th>\n",
       "    </tr>\n",
       "    <tr>\n",
       "      <th>Date</th>\n",
       "      <th></th>\n",
       "    </tr>\n",
       "  </thead>\n",
       "  <tbody>\n",
       "    <tr>\n",
       "      <th>2024-03-19</th>\n",
       "      <td>100.000000</td>\n",
       "    </tr>\n",
       "    <tr>\n",
       "      <th>2024-03-20</th>\n",
       "      <td>104.033146</td>\n",
       "    </tr>\n",
       "    <tr>\n",
       "      <th>2024-03-21</th>\n",
       "      <td>104.556438</td>\n",
       "    </tr>\n",
       "    <tr>\n",
       "      <th>2024-03-22</th>\n",
       "      <td>104.977112</td>\n",
       "    </tr>\n",
       "    <tr>\n",
       "      <th>2024-03-25</th>\n",
       "      <td>104.633069</td>\n",
       "    </tr>\n",
       "    <tr>\n",
       "      <th>...</th>\n",
       "      <td>...</td>\n",
       "    </tr>\n",
       "    <tr>\n",
       "      <th>2025-01-08</th>\n",
       "      <td>210.221513</td>\n",
       "    </tr>\n",
       "    <tr>\n",
       "      <th>2025-01-10</th>\n",
       "      <td>209.514465</td>\n",
       "    </tr>\n",
       "    <tr>\n",
       "      <th>2025-01-13</th>\n",
       "      <td>209.735492</td>\n",
       "    </tr>\n",
       "    <tr>\n",
       "      <th>2025-01-14</th>\n",
       "      <td>209.819765</td>\n",
       "    </tr>\n",
       "    <tr>\n",
       "      <th>2025-01-15</th>\n",
       "      <td>209.724127</td>\n",
       "    </tr>\n",
       "  </tbody>\n",
       "</table>\n",
       "<p>208 rows × 1 columns</p>\n",
       "</div>"
      ]
     },
     "execution_count": 4,
     "metadata": {},
     "output_type": "execute_result"
    }
   ],
   "execution_count": 4
  }
 ],
 "metadata": {
  "kernelspec": {
   "display_name": "Python 3",
   "language": "python",
   "name": "python3"
  },
  "language_info": {
   "codemirror_mode": {
    "name": "ipython",
    "version": 2
   },
   "file_extension": ".py",
   "mimetype": "text/x-python",
   "name": "python",
   "nbconvert_exporter": "python",
   "pygments_lexer": "ipython2",
   "version": "2.7.6"
  }
 },
 "nbformat": 4,
 "nbformat_minor": 5
}
